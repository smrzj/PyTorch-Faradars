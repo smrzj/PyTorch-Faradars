{
 "cells": [
  {
   "metadata": {},
   "cell_type": "markdown",
   "source": "# needed libraries",
   "id": "8a77807f92f26ee"
  },
  {
   "metadata": {
    "ExecuteTime": {
     "end_time": "2025-07-08T04:28:39.662782Z",
     "start_time": "2025-07-08T04:28:39.655635Z"
    }
   },
   "cell_type": "code",
   "source": "",
   "id": "fbc121e30a2defb3",
   "outputs": [],
   "execution_count": null
  }
 ],
 "metadata": {
  "kernelspec": {
   "display_name": "Python 3",
   "language": "python",
   "name": "python3"
  },
  "language_info": {
   "codemirror_mode": {
    "name": "ipython",
    "version": 2
   },
   "file_extension": ".py",
   "mimetype": "text/x-python",
   "name": "python",
   "nbconvert_exporter": "python",
   "pygments_lexer": "ipython2",
   "version": "2.7.6"
  }
 },
 "nbformat": 4,
 "nbformat_minor": 5
}
